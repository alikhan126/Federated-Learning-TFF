{
 "cells": [
  {
   "cell_type": "code",
   "execution_count": 1,
   "metadata": {},
   "outputs": [
    {
     "name": "stdout",
     "output_type": "stream",
     "text": [
      "^C\r\n",
      "\u001b[31mOperation cancelled by user\u001b[0m\r\n",
      "\u001b[33mYou are using pip version 19.0.1, however version 19.0.3 is available.\r\n",
      "You should consider upgrading via the 'pip install --upgrade pip' command.\u001b[0m\r\n"
     ]
    }
   ],
   "source": [
    "#@test {\"skip\": true}\n",
    "\n",
    "# NOTE: If you are running a Jupyter notebook, and installing a locally built\n",
    "# pip package, you may need to edit the following to point to the '.whl' file\n",
    "# on your local filesystem.\n",
    "\n",
    "!pip install -q tensorflow_federated"
   ]
  },
  {
   "cell_type": "code",
   "execution_count": 2,
   "metadata": {},
   "outputs": [
    {
     "data": {
      "text/plain": [
       "'Its, Working!'"
      ]
     },
     "execution_count": 2,
     "metadata": {},
     "output_type": "execute_result"
    }
   ],
   "source": [
    "from __future__ import absolute_import, division, print_function\n",
    "\n",
    "\n",
    "import collections\n",
    "from six.moves import range\n",
    "import numpy as np\n",
    "import tensorflow as tf\n",
    "from tensorflow.python.keras.optimizer_v2 import gradient_descent\n",
    "from tensorflow_federated import python as tff\n",
    "\n",
    "nest = tf.contrib.framework.nest\n",
    "\n",
    "np.random.seed(0)\n",
    "\n",
    "tf.compat.v1.enable_v2_behavior()\n",
    "\n",
    "tff.federated_computation(lambda: 'Its, Working!')()"
   ]
  },
  {
   "cell_type": "code",
   "execution_count": 3,
   "metadata": {},
   "outputs": [
    {
     "name": "stdout",
     "output_type": "stream",
     "text": [
      "Downloading data from https://storage.googleapis.com/tff-datasets-public/fed_emnist_digitsonly.tar.bz2\n",
      "97402880/97398400 [==============================] - 76s 1us/step\n"
     ]
    }
   ],
   "source": [
    "#@test {\"output\": \"ignore\"}\n",
    "emnist_train, emnist_test = tff.simulation.datasets.emnist.load_data()"
   ]
  },
  {
   "cell_type": "code",
   "execution_count": 4,
   "metadata": {},
   "outputs": [
    {
     "data": {
      "text/plain": [
       "3383"
      ]
     },
     "execution_count": 4,
     "metadata": {},
     "output_type": "execute_result"
    }
   ],
   "source": [
    "len(emnist_train.client_ids)"
   ]
  },
  {
   "cell_type": "code",
   "execution_count": 5,
   "metadata": {},
   "outputs": [
    {
     "data": {
      "text/plain": [
       "(OrderedDict([('label', tf.int32), ('pixels', tf.float32)]),\n",
       " OrderedDict([('label', TensorShape([])), ('pixels', TensorShape([28, 28]))]))"
      ]
     },
     "execution_count": 5,
     "metadata": {},
     "output_type": "execute_result"
    }
   ],
   "source": [
    "emnist_train.output_types, emnist_train.output_shapes"
   ]
  },
  {
   "cell_type": "code",
   "execution_count": 6,
   "metadata": {},
   "outputs": [
    {
     "name": "stdout",
     "output_type": "stream",
     "text": [
      "WARNING:tensorflow:From /home/ali/Documents/tf_object/lib/python3.6/site-packages/tensorflow/python/data/ops/iterator_ops.py:532: colocate_with (from tensorflow.python.framework.ops) is deprecated and will be removed in a future version.\n",
      "Instructions for updating:\n",
      "Colocations handled automatically by placer.\n"
     ]
    },
    {
     "data": {
      "text/plain": [
       "5"
      ]
     },
     "execution_count": 6,
     "metadata": {},
     "output_type": "execute_result"
    }
   ],
   "source": [
    "example_dataset = emnist_train.create_tf_dataset_for_client(\n",
    "    emnist_train.client_ids[0])\n",
    "\n",
    "example_element = iter(example_dataset).next()\n",
    "\n",
    "example_element['label'].numpy()"
   ]
  },
  {
   "cell_type": "code",
   "execution_count": 10,
   "metadata": {},
   "outputs": [
    {
     "data": {
      "image/png": "[encoded data removed]",
      "text/plain": [
       "<Figure size 432x288 with 1 Axes>"
      ]
     },
     "metadata": {
      "needs_background": "light"
     },
     "output_type": "display_data"
    }
   ],
   "source": [
    "#@test {\"output\": \"ignore\"}\n",
    "from matplotlib import pyplot as plt\n",
    "plt.imshow(example_element['pixels'].numpy(), cmap='gray', aspect='equal')\n",
    "plt.grid('off')\n",
    "_ = plt.show()"
   ]
  },
  {
   "cell_type": "code",
   "execution_count": 11,
   "metadata": {},
   "outputs": [],
   "source": [
    "NUM_EPOCHS = 10\n",
    "BATCH_SIZE = 20\n",
    "SHUFFLE_BUFFER = 500\n",
    "\n",
    "\n",
    "def preprocess(dataset):\n",
    "\n",
    "  def element_fn(element):\n",
    "    return collections.OrderedDict([\n",
    "        ('x', tf.reshape(element['pixels'], [-1])),\n",
    "        ('y', tf.reshape(element['label'], [1])),\n",
    "    ])\n",
    "\n",
    "  return dataset.repeat(NUM_EPOCHS).map(element_fn).shuffle(\n",
    "      SHUFFLE_BUFFER).batch(BATCH_SIZE)"
   ]
  },
  {
   "cell_type": "code",
   "execution_count": 12,
   "metadata": {},
   "outputs": [
    {
     "data": {
      "text/plain": [
       "OrderedDict([('x', array([[1., 1., 1., ..., 1., 1., 1.],\n",
       "                     [1., 1., 1., ..., 1., 1., 1.],\n",
       "                     [1., 1., 1., ..., 1., 1., 1.],\n",
       "                     ...,\n",
       "                     [1., 1., 1., ..., 1., 1., 1.],\n",
       "                     [1., 1., 1., ..., 1., 1., 1.],\n",
       "                     [1., 1., 1., ..., 1., 1., 1.]], dtype=float32)),\n",
       "             ('y', array([[0],\n",
       "                     [4],\n",
       "                     [2],\n",
       "                     [1],\n",
       "                     [9],\n",
       "                     [0],\n",
       "                     [3],\n",
       "                     [0],\n",
       "                     [7],\n",
       "                     [2],\n",
       "                     [1],\n",
       "                     [8],\n",
       "                     [2],\n",
       "                     [5],\n",
       "                     [6],\n",
       "                     [2],\n",
       "                     [3],\n",
       "                     [8],\n",
       "                     [1],\n",
       "                     [9]], dtype=int32))])"
      ]
     },
     "execution_count": 12,
     "metadata": {},
     "output_type": "execute_result"
    }
   ],
   "source": [
    "#@test {\"output\": \"ignore\"}\n",
    "preprocessed_example_dataset = preprocess(example_dataset)\n",
    "\n",
    "sample_batch = nest.map_structure(\n",
    "    lambda x: x.numpy(), iter(preprocessed_example_dataset).next())\n",
    "\n",
    "sample_batch"
   ]
  },
  {
   "cell_type": "code",
   "execution_count": 13,
   "metadata": {},
   "outputs": [],
   "source": [
    "def make_federated_data(client_data, client_ids):\n",
    "  return [preprocess(client_data.create_tf_dataset_for_client(x))\n",
    "          for x in client_ids]"
   ]
  },
  {
   "cell_type": "code",
   "execution_count": 14,
   "metadata": {},
   "outputs": [
    {
     "data": {
      "text/plain": [
       "(3,\n",
       " <DatasetV1Adapter shapes: OrderedDict([(x, (None, 784)), (y, (None, 1))]), types: OrderedDict([(x, tf.float32), (y, tf.int32)])>)"
      ]
     },
     "execution_count": 14,
     "metadata": {},
     "output_type": "execute_result"
    }
   ],
   "source": [
    "#@test {\"output\": \"ignore\"}\n",
    "NUM_CLIENTS = 3\n",
    "\n",
    "sample_clients = emnist_train.client_ids[0:NUM_CLIENTS]\n",
    "\n",
    "federated_train_data = make_federated_data(emnist_train, sample_clients)\n",
    "\n",
    "len(federated_train_data), federated_train_data[0]"
   ]
  },
  {
   "cell_type": "code",
   "execution_count": 15,
   "metadata": {},
   "outputs": [],
   "source": [
    "def create_compiled_keras_model():\n",
    "  model = tf.keras.models.Sequential([\n",
    "      tf.keras.layers.Dense(\n",
    "          10, activation=tf.nn.softmax, kernel_initializer='zeros', input_shape=(784,))])\n",
    "  \n",
    "  def loss_fn(y_true, y_pred):\n",
    "    return tf.reduce_mean(tf.keras.losses.sparse_categorical_crossentropy(\n",
    "        y_true, y_pred))\n",
    " \n",
    "  model.compile(\n",
    "      loss=loss_fn,\n",
    "      optimizer=gradient_descent.SGD(learning_rate=0.02),\n",
    "      metrics=[tf.keras.metrics.SparseCategoricalAccuracy()])\n",
    "  return model"
   ]
  },
  {
   "cell_type": "code",
   "execution_count": 16,
   "metadata": {},
   "outputs": [],
   "source": [
    "def model_fn():\n",
    "  keras_model = create_compiled_keras_model()\n",
    "  return tff.learning.from_compiled_keras_model(keras_model, sample_batch)"
   ]
  },
  {
   "cell_type": "code",
   "execution_count": 17,
   "metadata": {},
   "outputs": [],
   "source": [
    "#@test {\"output\": \"ignore\"}\n",
    "iterative_process = tff.learning.build_federated_averaging_process(model_fn)"
   ]
  },
  {
   "cell_type": "code",
   "execution_count": 18,
   "metadata": {},
   "outputs": [
    {
     "data": {
      "text/plain": [
       "'( -> <model=<trainable=<dense/kernel=float32[784,10],dense/bias=float32[10]>,non_trainable=<>>,optimizer_state=<int64>>@SERVER)'"
      ]
     },
     "execution_count": 18,
     "metadata": {},
     "output_type": "execute_result"
    }
   ],
   "source": [
    "#@test {\"output\": \"ignore\"}\n",
    "str(iterative_process.initialize.type_signature)"
   ]
  },
  {
   "cell_type": "code",
   "execution_count": 19,
   "metadata": {},
   "outputs": [],
   "source": [
    "state = iterative_process.initialize()"
   ]
  },
  {
   "cell_type": "code",
   "execution_count": 20,
   "metadata": {},
   "outputs": [
    {
     "ename": "SyntaxError",
     "evalue": "invalid syntax (<ipython-input-20-29da5a8a351a>, line 1)",
     "output_type": "error",
     "traceback": [
      "\u001b[0;36m  File \u001b[0;32m\"<ipython-input-20-29da5a8a351a>\"\u001b[0;36m, line \u001b[0;32m1\u001b[0m\n\u001b[0;31m    SERVER_STATE, FEDERATED_DATA -> SERVER_STATE, TRAINING_METRICS\u001b[0m\n\u001b[0m                                  ^\u001b[0m\n\u001b[0;31mSyntaxError\u001b[0m\u001b[0;31m:\u001b[0m invalid syntax\n"
     ]
    }
   ],
   "source": [
    "SERVER_STATE, FEDERATED_DATA -> SERVER_STATE, TRAINING_METRICS"
   ]
  },
  {
   "cell_type": "code",
   "execution_count": 21,
   "metadata": {},
   "outputs": [
    {
     "name": "stdout",
     "output_type": "stream",
     "text": [
      "round  1, metrics=<sparse_categorical_accuracy=0.12945454,loss=3.1026216>\n"
     ]
    }
   ],
   "source": [
    "#@test {\"timeout\": 600, \"output\": \"ignore\"}\n",
    "state, metrics = iterative_process.next(state, federated_train_data)\n",
    "print('round  1, metrics={}'.format(metrics))"
   ]
  },
  {
   "cell_type": "code",
   "execution_count": 22,
   "metadata": {},
   "outputs": [
    {
     "name": "stdout",
     "output_type": "stream",
     "text": [
      "round  2, metrics=<sparse_categorical_accuracy=0.15527272,loss=2.834775>\n",
      "round  3, metrics=<sparse_categorical_accuracy=0.192,loss=2.725437>\n",
      "round  4, metrics=<sparse_categorical_accuracy=0.24618182,loss=2.4612198>\n",
      "round  5, metrics=<sparse_categorical_accuracy=0.32327273,loss=2.1754677>\n",
      "round  6, metrics=<sparse_categorical_accuracy=0.3709091,loss=1.8901131>\n",
      "round  7, metrics=<sparse_categorical_accuracy=0.39381817,loss=1.8203567>\n",
      "round  8, metrics=<sparse_categorical_accuracy=0.4490909,loss=1.6789936>\n",
      "round  9, metrics=<sparse_categorical_accuracy=0.48763636,loss=1.5388702>\n",
      "round 10, metrics=<sparse_categorical_accuracy=0.5589091,loss=1.3861043>\n"
     ]
    }
   ],
   "source": [
    "#@test {\"skip\": true}\n",
    "for round_num in range(2, 11):\n",
    "  state, metrics = iterative_process.next(state, federated_train_data)\n",
    "  print('round {:2d}, metrics={}'.format(round_num, metrics))"
   ]
  },
  {
   "cell_type": "code",
   "execution_count": 23,
   "metadata": {},
   "outputs": [],
   "source": [
    "MnistVariables = collections.namedtuple(\n",
    "    'MnistVariables', 'weights bias num_examples loss_sum accuracy_sum')"
   ]
  },
  {
   "cell_type": "code",
   "execution_count": 24,
   "metadata": {},
   "outputs": [],
   "source": [
    "def create_mnist_variables():\n",
    "  return MnistVariables(\n",
    "      weights = tf.Variable(\n",
    "          lambda: tf.zeros(dtype=tf.float32, shape=(784, 10)),\n",
    "          name='weights',\n",
    "          trainable=True),\n",
    "      bias = tf.Variable(\n",
    "          lambda: tf.zeros(dtype=tf.float32, shape=(10)),\n",
    "          name='bias',\n",
    "          trainable=True),\n",
    "      num_examples = tf.Variable(0.0, name='num_examples', trainable=False),\n",
    "      loss_sum = tf.Variable(0.0, name='loss_sum', trainable=False),\n",
    "      accuracy_sum = tf.Variable(0.0, name='accuracy_sum', trainable=False))"
   ]
  },
  {
   "cell_type": "code",
   "execution_count": 25,
   "metadata": {},
   "outputs": [],
   "source": [
    "def mnist_forward_pass(variables, batch):\n",
    "  y = tf.nn.softmax(tf.matmul(batch['x'], variables.weights) + variables.bias)\n",
    "  predictions = tf.cast(tf.argmax(y, 1), tf.int32)\n",
    "\n",
    "  flat_labels = tf.reshape(batch['y'], [-1])\n",
    "  loss = -tf.reduce_mean(tf.reduce_sum(\n",
    "      tf.one_hot(flat_labels, 10) * tf.log(y), reduction_indices=[1]))\n",
    "  accuracy = tf.reduce_mean(\n",
    "      tf.cast(tf.equal(predictions, flat_labels), tf.float32))\n",
    "\n",
    "  num_examples = tf.to_float(tf.size(batch['y']))\n",
    "\n",
    "  tf.assign_add(variables.num_examples, num_examples)\n",
    "  tf.assign_add(variables.loss_sum, loss * num_examples)\n",
    "  tf.assign_add(variables.accuracy_sum, accuracy * num_examples)\n",
    "\n",
    "  return loss, predictions"
   ]
  },
  {
   "cell_type": "code",
   "execution_count": 26,
   "metadata": {},
   "outputs": [],
   "source": [
    "def get_local_mnist_metrics(variables):\n",
    "  return collections.OrderedDict([\n",
    "      ('num_examples', variables.num_examples),\n",
    "      ('loss', variables.loss_sum / variables.num_examples),\n",
    "      ('accuracy', variables.accuracy_sum / variables.num_examples)\n",
    "    ])"
   ]
  },
  {
   "cell_type": "code",
   "execution_count": 27,
   "metadata": {},
   "outputs": [],
   "source": [
    "@tff.federated_computation\n",
    "def aggregate_mnist_metrics_across_clients(metrics):\n",
    "  return {\n",
    "      'num_examples': tff.federated_sum(metrics.num_examples),\n",
    "      'loss': tff.federated_mean(metrics.loss, metrics.num_examples),\n",
    "      'accuracy': tff.federated_mean(metrics.accuracy, metrics.num_examples)\n",
    "  }"
   ]
  },
  {
   "cell_type": "code",
   "execution_count": 28,
   "metadata": {},
   "outputs": [],
   "source": [
    "class MnistModel(tff.learning.Model):\n",
    "\n",
    "  def __init__(self):\n",
    "    self._variables = create_mnist_variables()\n",
    "\n",
    "  @property\n",
    "  def trainable_variables(self):\n",
    "    return [self._variables.weights, self._variables.bias]\n",
    "\n",
    "  @property\n",
    "  def non_trainable_variables(self):\n",
    "    return []\n",
    "\n",
    "  @property\n",
    "  def local_variables(self):\n",
    "    return [\n",
    "        self._variables.num_examples, self._variables.loss_sum,\n",
    "        self._variables.accuracy_sum\n",
    "    ]\n",
    "\n",
    "  @property\n",
    "  def input_spec(self):\n",
    "    return collections.OrderedDict([('x', tf.TensorSpec([None, 784],\n",
    "                                                        tf.float32)),\n",
    "                                    ('y', tf.TensorSpec([None, 1], tf.int32))])\n",
    "\n",
    "  # TODO(b/124777499): Remove `autograph=False` when possible.\n",
    "  @tf.contrib.eager.function(autograph=False)\n",
    "  def forward_pass(self, batch, training=True):\n",
    "    del training\n",
    "    loss, predictions = mnist_forward_pass(self._variables, batch)\n",
    "    return tff.learning.BatchOutput(loss=loss, predictions=predictions)\n",
    "\n",
    "  @tf.contrib.eager.function(autograph=False)\n",
    "  def report_local_outputs(self):\n",
    "    return get_local_mnist_metrics(self._variables)\n",
    "\n",
    "  @property\n",
    "  def federated_output_computation(self):\n",
    "    return aggregate_mnist_metrics_across_clients"
   ]
  },
  {
   "cell_type": "code",
   "execution_count": 29,
   "metadata": {},
   "outputs": [],
   "source": [
    "class MnistTrainableModel(MnistModel, tff.learning.TrainableModel):\n",
    "\n",
    "  # TODO(b/124777499): Remove `autograph=False` when possible.\n",
    "  @tf.contrib.eager.defun(autograph=False)\n",
    "  def train_on_batch(self, batch):\n",
    "    output = self.forward_pass(batch)\n",
    "    optimizer = tf.train.GradientDescentOptimizer(0.02)\n",
    "    optimizer.minimize(output.loss, var_list=self.trainable_variables)\n",
    "    return output"
   ]
  },
  {
   "cell_type": "code",
   "execution_count": 30,
   "metadata": {},
   "outputs": [
    {
     "name": "stdout",
     "output_type": "stream",
     "text": [
      "WARNING:tensorflow:From <ipython-input-25-bc0a5f86ef3d>:11: to_float (from tensorflow.python.ops.math_ops) is deprecated and will be removed in a future version.\n",
      "Instructions for updating:\n",
      "Use tf.cast instead.\n",
      "WARNING:tensorflow:From /home/ali/Documents/tf_object/lib/python3.6/site-packages/tensorflow/python/ops/math_ops.py:3066: to_int32 (from tensorflow.python.ops.math_ops) is deprecated and will be removed in a future version.\n",
      "Instructions for updating:\n",
      "Use tf.cast instead.\n"
     ]
    }
   ],
   "source": [
    "iterative_process = tff.learning.build_federated_averaging_process(\n",
    "    MnistTrainableModel)"
   ]
  },
  {
   "cell_type": "code",
   "execution_count": 31,
   "metadata": {},
   "outputs": [],
   "source": [
    "state = iterative_process.initialize()"
   ]
  },
  {
   "cell_type": "code",
   "execution_count": 32,
   "metadata": {},
   "outputs": [
    {
     "name": "stdout",
     "output_type": "stream",
     "text": [
      "round  1, metrics=<accuracy=0.13163637,loss=3.0132024,num_examples=2750.0>\n"
     ]
    }
   ],
   "source": [
    "#@test {\"timeout\": 600, \"output\": \"ignore\"}\n",
    "state, metrics = iterative_process.next(state, federated_train_data)\n",
    "print('round  1, metrics={}'.format(metrics))"
   ]
  },
  {
   "cell_type": "code",
   "execution_count": 33,
   "metadata": {},
   "outputs": [
    {
     "name": "stdout",
     "output_type": "stream",
     "text": [
      "round  2, metrics=<accuracy=0.16654545,loss=2.8052046,num_examples=2750.0>\n",
      "round  3, metrics=<accuracy=0.21018182,loss=2.5683699,num_examples=2750.0>\n",
      "round  4, metrics=<accuracy=0.23345456,loss=2.5125778,num_examples=2750.0>\n",
      "round  5, metrics=<accuracy=0.30545455,loss=2.1314669,num_examples=2750.0>\n",
      "round  6, metrics=<accuracy=0.36945456,loss=1.9998913,num_examples=2750.0>\n",
      "round  7, metrics=<accuracy=0.41963637,loss=1.7635393,num_examples=2750.0>\n",
      "round  8, metrics=<accuracy=0.44763637,loss=1.7058895,num_examples=2750.0>\n",
      "round  9, metrics=<accuracy=0.52509093,loss=1.4911711,num_examples=2750.0>\n",
      "round 10, metrics=<accuracy=0.54327273,loss=1.4455813,num_examples=2750.0>\n"
     ]
    }
   ],
   "source": [
    "#@test {\"skip\": true}\n",
    "for round_num in range(2, 11):\n",
    "  state, metrics = iterative_process.next(state, federated_train_data)\n",
    "  print('round {:2d}, metrics={}'.format(round_num, metrics))"
   ]
  },
  {
   "cell_type": "code",
   "execution_count": 34,
   "metadata": {},
   "outputs": [],
   "source": [
    "evaluation = tff.learning.build_federated_evaluation(MnistModel)"
   ]
  },
  {
   "cell_type": "code",
   "execution_count": 35,
   "metadata": {},
   "outputs": [
    {
     "ename": "SyntaxError",
     "evalue": "invalid syntax (<ipython-input-35-0eb814990b51>, line 1)",
     "output_type": "error",
     "traceback": [
      "\u001b[0;36m  File \u001b[0;32m\"<ipython-input-35-0eb814990b51>\"\u001b[0;36m, line \u001b[0;32m1\u001b[0m\n\u001b[0;31m    SERVER_MODEL, FEDERATED_DATA -> TRAINING_METRICS\u001b[0m\n\u001b[0m                                  ^\u001b[0m\n\u001b[0;31mSyntaxError\u001b[0m\u001b[0;31m:\u001b[0m invalid syntax\n"
     ]
    }
   ],
   "source": [
    "SERVER_MODEL, FEDERATED_DATA -> TRAINING_METRICS"
   ]
  },
  {
   "cell_type": "code",
   "execution_count": 36,
   "metadata": {},
   "outputs": [],
   "source": [
    "#@test {\"output\": \"ignore\"}\n",
    "train_metrics = evaluation(state.model, federated_train_data)"
   ]
  },
  {
   "cell_type": "code",
   "execution_count": 37,
   "metadata": {},
   "outputs": [
    {
     "data": {
      "text/plain": [
       "'<accuracy=0.66909087,loss=1.2359995,num_examples=2750.0>'"
      ]
     },
     "execution_count": 37,
     "metadata": {},
     "output_type": "execute_result"
    }
   ],
   "source": [
    "#@test {\"output\": \"ignore\"}\n",
    "str(train_metrics)"
   ]
  },
  {
   "cell_type": "code",
   "execution_count": 38,
   "metadata": {},
   "outputs": [
    {
     "data": {
      "text/plain": [
       "(3,\n",
       " <DatasetV1Adapter shapes: OrderedDict([(x, (None, 784)), (y, (None, 1))]), types: OrderedDict([(x, tf.float32), (y, tf.int32)])>)"
      ]
     },
     "execution_count": 38,
     "metadata": {},
     "output_type": "execute_result"
    }
   ],
   "source": [
    "federated_test_data = make_federated_data(emnist_test, sample_clients)\n",
    "\n",
    "len(federated_test_data), federated_test_data[0]"
   ]
  },
  {
   "cell_type": "code",
   "execution_count": 39,
   "metadata": {},
   "outputs": [],
   "source": [
    "#@test {\"output\": \"ignore\"}\n",
    "test_metrics = evaluation(state.model, federated_test_data)"
   ]
  },
  {
   "cell_type": "code",
   "execution_count": 40,
   "metadata": {},
   "outputs": [
    {
     "data": {
      "text/plain": [
       "'<accuracy=0.54545456,loss=1.54702,num_examples=330.0>'"
      ]
     },
     "execution_count": 40,
     "metadata": {},
     "output_type": "execute_result"
    }
   ],
   "source": [
    "#@test {\"output\": \"ignore\"}\n",
    "str(test_metrics)"
   ]
  },
  {
   "cell_type": "code",
   "execution_count": null,
   "metadata": {},
   "outputs": [],
   "source": []
  }
 ],
 "metadata": {
  "kernelspec": {
   "display_name": "Python 3",
   "language": "python",
   "name": "python3"
  },
  "language_info": {
   "codemirror_mode": {
    "name": "ipython",
    "version": 3
   },
   "file_extension": ".py",
   "mimetype": "text/x-python",
   "name": "python",
   "nbconvert_exporter": "python",
   "pygments_lexer": "ipython3",
   "version": "3.6.7"
  }
 },
 "nbformat": 4,
 "nbformat_minor": 2
}
